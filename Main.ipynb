{
 "cells": [
  {
   "cell_type": "code",
   "execution_count": 1,
   "metadata": {},
   "outputs": [
    {
     "name": "stdout",
     "output_type": "stream",
     "text": [
      "     0   1   2   3   4   5   6\n",
      "\r",
      "0  |   |   |   |   |   | 2 |   | \n",
      "\r",
      "1  |   |   |   |   |   |   |   | \n",
      "\r",
      "2  |   |   |   | 1 |   |   |   | \n",
      "\r",
      "3  |   |   |   |   |   |   |   | \n",
      "\r",
      "4  |   |   |   |   |   |   |   | \n",
      "\r",
      "5  |   |   |   |   |   |   |   | \n",
      "\r",
      "6  |   |   |   |   |   |   |   | \n",
      "\r\n",
      "[(0, 4), (1, 5), (3, 5), (1, 1), (0, 2), (4, 2), (3, 1), (4, 4)]\n",
      "\n",
      "Old state:\n",
      "     0   1   2   3   4   5   6\n",
      "\r",
      "0  |   |   |   |   |   | 2 |   | \n",
      "\r",
      "1  |   |   |   |   |   |   |   | \n",
      "\r",
      "2  |   |   |   | 1 |   |   |   | \n",
      "\r",
      "3  |   |   |   |   |   |   |   | \n",
      "\r",
      "4  |   |   |   |   |   |   |   | \n",
      "\r",
      "5  |   |   |   |   |   |   |   | \n",
      "\r",
      "6  |   |   |   |   |   |   |   | \n",
      "\r\n",
      "\n",
      "New state:\n",
      "     0   1   2   3   4   5   6\n",
      "\r",
      "0  |   |   |   |   |   | 2 |   | \n",
      "\r",
      "1  |   | 1 |   |   |   |   |   | \n",
      "\r",
      "2  |   |   |   | - |   |   |   | \n",
      "\r",
      "3  |   |   |   |   |   |   |   | \n",
      "\r",
      "4  |   |   |   |   |   |   |   | \n",
      "\r",
      "5  |   |   |   |   |   |   |   | \n",
      "\r",
      "6  |   |   |   |   |   |   |   | \n",
      "\r\n",
      "\n",
      "Winner: <__main__.GreedyPlayer object at 0x000001CA37C4EAC0>\n",
      "Outcome: illegal move\n",
      "     0   1   2   3   4   5   6\n",
      "\r",
      "0  | 1 |   |   |   | - | - |   | \n",
      "\r",
      "1  |   |   | - | - |   | - |   | \n",
      "\r",
      "2  |   | - | - | - | - | - |   | \n",
      "\r",
      "3  |   |   | - | - | - |   | - | \n",
      "\r",
      "4  | - | - | - | - | - |   | - | \n",
      "\r",
      "5  |   | - | - |   | - | - |   | \n",
      "\r",
      "6  |   |   |   | - | 2 | - |   | \n",
      "\r\n",
      "Move history:\n",
      "[[1, 5], [2, 4], [3, 6], [4, 3], [5, 5], [2, 2], [6, 3], [4, 1], [5, 1], [3, 3], [3, 2], [5, 4], [4, 4], [4, 2], [6, 5], [3, 4], [4, 6], [1, 3], [2, 5], [2, 1], [0, 4], [4, 0], [1, 2], [5, 2], [0, 0], [6, 4]]\n"
     ]
    }
   ],
   "source": [
    "%run sample_players.py"
   ]
  },
  {
   "cell_type": "code",
   "execution_count": null,
   "metadata": {},
   "outputs": [],
   "source": []
  }
 ],
 "metadata": {
  "kernelspec": {
   "display_name": "Python 3",
   "language": "python",
   "name": "python3"
  },
  "language_info": {
   "codemirror_mode": {
    "name": "ipython",
    "version": 3
   },
   "file_extension": ".py",
   "mimetype": "text/x-python",
   "name": "python",
   "nbconvert_exporter": "python",
   "pygments_lexer": "ipython3",
   "version": "3.8.5"
  }
 },
 "nbformat": 4,
 "nbformat_minor": 4
}
